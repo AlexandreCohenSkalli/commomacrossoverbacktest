{
    "cells": [
        {
            "cell_type": "markdown",
            "metadata": {},
            "source": [
                "# Example usage\n",
                "\n",
                "To use `commomacrossoverbacktest` in a project:"
            ]
        },
        {
            "cell_type": "code",
            "execution_count": null,
            "metadata": {},
            "outputs": [
                {
                    "data": {
                        "text/plain": [
                            "Traceback (most recent call last):\n",
                            "  File \"/Users/alexcohenskalli/.vscode/extensions/ms-python.python-2024.22.2-darwin-x64/python_files/python_server.py\", line 133, in exec_user_input\n",
                            "    retval = callable_(user_input, user_globals)\n",
                            "             ^^^^^^^^^^^^^^^^^^^^^^^^^^^^^^^^^^^\n",
                            "  File \"<string>\", line 1, in <module>\n",
                            "ModuleNotFoundError: No module named 'pandas'\n",
                            "\n"
                        ]
                    },
                    "metadata": {},
                    "output_type": "display_data"
                }
            ],
            "source": [
                "import pandas as pd\n",
                "import logging\n",
                "from datetime import datetime\n",
                "import os\n",
                "from dataclasses import dataclass\n",
                "from src.commomacrossoverbacktest.commo_broker import CommoBroker\n",
                "from src.commomacrossoverbacktest.commo_informations import ExponentialMovingAverageInformation\n",
                "from pybacktestchain.data_module import DataModule, get_stocks_data\n",
                "from pybacktestchain.utils import generate_random_name\n",
                "import matplotlib.pyplot as plt\n",
                "\n",
                "backtest = Backtest(\n",
                "        initial_date=datetime(2022, 1, 1),\n",
                "        final_date=datetime(2023, 1, 1),\n",
                "        universe=['GC=F', 'CL=F', 'CT=F', 'OJ=F', 'SB=F', 'ZS=F', 'ZC=F'],\n",
                "        initial_cash=1000000\n",
                "    )\n",
                "\n",
                "pnl_df = backtest.run_backtest()\n",
                "\n",
                "    # Visualiser l'évolution du P&L\n",
                "plt.figure(figsize=(12, 6))\n",
                "plt.plot(pnl_df['Date'], pnl_df['Portfolio Value'], label=\"Portfolio Value\")\n",
                "plt.title(\"Portfolio P&L Evolution\")\n",
                "plt.xlabel(\"Date\")\n",
                "plt.ylabel(\"Portfolio Value\")\n",
                "plt.legend()\n",
                "plt.grid()\n",
                "plt.show()\n"
            ]
        },
        {
            "cell_type": "code",
            "execution_count": null,
            "metadata": {},
            "outputs": [],
            "source": []
        }
    ],
    "metadata": {
        "kernelspec": {
            "display_name": "Python 3",
            "language": "python",
            "name": "python3"
        },
        "language_info": {
            "codemirror_mode": {
                "name": "ipython",
                "version": 3
            },
            "file_extension": ".py",
            "mimetype": "text/x-python",
            "name": "python",
            "nbconvert_exporter": "python",
            "pygments_lexer": "ipython3",
            "version": "3.8.5"
        }
    },
    "nbformat": 4,
    "nbformat_minor": 4
}
